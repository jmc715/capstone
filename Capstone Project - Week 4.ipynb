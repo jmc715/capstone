{
    "nbformat_minor": 1, 
    "cells": [
        {
            "source": "<b>Week Four: Battle of the Neighborhoods</b>", 
            "cell_type": "markdown", 
            "metadata": {}
        }, 
        {
            "source": "<b>Grocery Stores in New York City</b>", 
            "cell_type": "markdown", 
            "metadata": {}
        }, 
        {
            "source": "\n<html>\n<b>Problem Description:</b> New York City is one of the most densely populated cities in the United States, and its population only continues to grow. With this growth comes many challenges, especially when it comes to food security. Areas that lack reliable access to food are known as food deserts, or alternatively \"low-access communities.\" The United States Department of Agriculture (USDA) provideds the following guidance on what is considered a low-access community:\n\n\"To qualify as a \u201clow-access community,\u201d at least 500 people and/or at least 33 percent of the census tract's population must reside more than one mile from a supermarket or large grocery store (for rural census tracts, the distance is more than 10 miles)\"(americannutritionassociation.org).\n\nThis project will focus on identifying neighborhoods with poor access to grocery stores, as well as ranking neighborhoods in New York City in terms of access to grocery stores.\n\n<h4>Target Audience</h4>This will be of particular interest to smaller grocery stores, particularly ones looking to service areas that don't meet the requirements for larger supermarkets (like Whole Foods, Safeway, or Kroger). Identifying underserved neighborhoods can be a great opportunity for small-to-medium size grocery stores to create and maintain loyal customers while improving the health and well-being of the neighborhood they are serving.\n\n<h3> Data Required </h3>\nMost of the data used in this project will come from the Foursquare API. This will provide:\n<ul>Maps</ul><ul>Locations and names of venues</ul><ul>Locations of neighborhoods in New York City</ul>\nAlso of use in this project will be a list of New York City neighborhoods (available at <a href=\"https://geo.nyu.edu/catalog/nyu_2451_34572\">https://geo.nyu.edu/catalog/nyu_2451_34572</a>)\nThis project will also make use of economic and demographic data of New York City, which can be retrieved from Wikipedia.\n<ul><a href=\"https://en.wikipedia.org/wiki/New_York_City\">https://en.wikipedia.org/wiki/New_York_City</a></ul>\n<ul><a href=\"https://en.wikipedia.org/wiki/Economy_of_New_York_City\">https://en.wikipedia.org/wiki/Economy_of_New_York_City</a></ul>\n<ul><a href=\"https://en.wikipedia.org/wiki/Portal:New_York_City\">https://en.wikipedia.org/wiki/Portal:New_York_City </a></ul>\nIt may also be useful to examine the FRESH Food Stores Boundaries, which will show if a neighborhood is eligible for discretionary tax incentives for grocery stores/bodegas. This data can be found <a href=\"https://data.cityofnewyork.us/Business/FRESH-Food-Stores-Zoning-Boundaries/w9uz-8epq\">HERE</a>\n</html>", 
            "cell_type": "markdown", 
            "metadata": {
                "collapsed": true
            }
        }, 
        {
            "execution_count": null, 
            "cell_type": "code", 
            "metadata": {}, 
            "outputs": [], 
            "source": ""
        }
    ], 
    "metadata": {
        "kernelspec": {
            "display_name": "Python 3.6", 
            "name": "python3", 
            "language": "python"
        }, 
        "language_info": {
            "mimetype": "text/x-python", 
            "nbconvert_exporter": "python", 
            "version": "3.6.8", 
            "name": "python", 
            "file_extension": ".py", 
            "pygments_lexer": "ipython3", 
            "codemirror_mode": {
                "version": 3, 
                "name": "ipython"
            }
        }
    }, 
    "nbformat": 4
}